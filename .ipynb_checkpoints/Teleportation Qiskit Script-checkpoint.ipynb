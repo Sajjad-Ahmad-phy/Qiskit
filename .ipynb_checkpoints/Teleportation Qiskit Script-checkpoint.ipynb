{
 "cells": [
  {
   "cell_type": "code",
   "execution_count": null,
   "id": "5e12454b",
   "metadata": {},
   "outputs": [],
   "source": [
    "\"\"\"   Quantum Teleportation \"\"\"\n",
    "\n",
    "\"Teleporting the information of qubit Q: 1/√2(|0⟩+ |1⟩) to qubit B = |0⟩ \"\n",
    "\n",
    "#Importing some libraries to encod Teleportation Circuit\n",
    "from qiskit import QuantumCircuit, QuantumRegister, ClassicalRegister, Aer, execute\n",
    "from qiskit.visualization import plot_histogram\n",
    "from qiskit.quantum_info import Statevector\n",
    "\n",
    "\"qubits\"\n",
    "Qbit = QuantumRegister(1, 'Q')\n",
    "ebit0 = QuantumRegister(1, 'A')   #ebit stands for Entangled bit\n",
    "ebit1 = QuantumRegister(1, 'B')\n",
    "\n",
    "\"Cbits\"\n",
    "a = ClassicalRegister(1, 'a')\n",
    "b = ClassicalRegister(1, 'b')\n",
    "\n",
    "# A class in which Quantum circuit of teleportation is Coded\n",
    "class Teleportation_Circuit:\n",
    "    \n",
    "    #Initiallizing Qbits and Cbits\n",
    "    def __init__(self, Qbit, ebit0, ebit1, a, b):\n",
    "        self.Qbit = Qbit\n",
    "        self.ebit0 = ebit0\n",
    "        self.ebit1 = ebit1\n",
    "        self.a = a\n",
    "        self.b = b\n",
    "    \n",
    "\n",
    "        self.qc = QuantumCircuit(self.Qbit, self.ebit0, self.ebit1, self.a, self.b)\n",
    "\n",
    "        self.qc.h(self.Qbit)   #  Plus state creation\n",
    "\n",
    "        \"Creating Entangled State of A and B\"\n",
    "        self.qc.h(self.ebit0)\n",
    "        self.qc.cx(self.ebit0, self.ebit1)\n",
    "        self.qc.barrier()    \n",
    "        \n",
    "        \"Applying CNOT to 'A' state using Qbit as  Control\"\n",
    "        self.qc.cx(Qbit, ebit0)\n",
    "        self.qc.h(Qbit)\n",
    "        self.qc.barrier()     \n",
    "        \n",
    "        'Measuring Qbits to classical bits'\n",
    "        self.qc.measure(self.Qbit, self.b)\n",
    "        self.qc.measure(self.ebit0, self.a)\n",
    "        self.qc.barrier()\n",
    "        \n",
    "        \"Apply CNOT and CZ gates on ebit1\"\n",
    "        self.qc.cx(self.ebit0, self.ebit1)\n",
    "        self.qc.cz(self.Qbit, self.ebit1)\n",
    "    \n",
    "    #To print the state of ebit1 after Teleportation proccess\n",
    "    def Print_state(self):\n",
    "        self.simulator = Aer.get_backend('statevector_simulator')\n",
    "        self.result = execute(self.qc, backend = self.simulator).result()\n",
    "        self.statevector = self.result.get_statevector(self.qc)\n",
    "        return Statevector(self.statevector)\n",
    "    \n",
    "    def Q_C_Returned(self):\n",
    "        return self.qc\n",
    "    \n",
    "    \"Attribute for drawing histogram of Qbits Probability maganitude\"\n",
    "    def Histogram(self):\n",
    "        simulator = Aer.get_backend('qasm_simulator')\n",
    "        result = execute(self.qc, backend = simulator, shots = 1024).result()\n",
    "        counts = result.get_counts(self.qc)\n",
    "        return plot_histogram(counts)\n",
    "\n",
    "\n",
    "\n",
    "#Calling the class Teleportation_Circuit here        \n",
    "Q_Circuit = Teleportation_Circuit(Qbit, ebit0, ebit1, a, b)\n",
    "\n",
    "# Drawing the circuit\n",
    "Q_Circuit.Q_C_Returned().draw(output='mpl')\n",
    "\n",
    "# \"call the attribute Histogram of Class Teleportation Circuit\"\n",
    "# Q_Circuit.Histogram()\n",
    "\n",
    "# Printing the Quantum at the end\n",
    "# Q_Circuit.Print_state()"
   ]
  },
  {
   "cell_type": "code",
   "execution_count": 1,
   "id": "16648ffa",
   "metadata": {},
   "outputs": [
    {
     "name": "stderr",
     "output_type": "stream",
     "text": [
      "Author identity unknown\n",
      "\n",
      "*** Please tell me who you are.\n",
      "\n",
      "Run\n",
      "\n",
      "  git config --global user.email \"you@example.com\"\n",
      "  git config --global user.name \"Your Name\"\n",
      "\n",
      "to set your account's default identity.\n",
      "Omit --global to set the identity only in this repository.\n",
      "\n",
      "fatal: unable to auto-detect email address (got 'lenovo@DESKTOP-OQA9NCK.(none)')\n"
     ]
    }
   ],
   "source": [
    "!git commit -m \"Sajjad Ahmad\""
   ]
  },
  {
   "cell_type": "code",
   "execution_count": 2,
   "id": "9c84c24d",
   "metadata": {},
   "outputs": [
    {
     "ename": "SyntaxError",
     "evalue": "invalid syntax (3130753792.py, line 1)",
     "output_type": "error",
     "traceback": [
      "\u001b[1;36m  File \u001b[1;32m\"C:\\Users\\lenovo\\AppData\\Local\\Temp\\ipykernel_2856\\3130753792.py\"\u001b[1;36m, line \u001b[1;32m1\u001b[0m\n\u001b[1;33m    git config --global user.email \"you@example.com\"\u001b[0m\n\u001b[1;37m        ^\u001b[0m\n\u001b[1;31mSyntaxError\u001b[0m\u001b[1;31m:\u001b[0m invalid syntax\n"
     ]
    }
   ],
   "source": [
    "git config --global user.email \"sajjadkh508@gmai.com\"\n",
    "git config --global user.name \"\""
   ]
  },
  {
   "cell_type": "code",
   "execution_count": null,
   "id": "e4463c0d",
   "metadata": {},
   "outputs": [],
   "source": []
  }
 ],
 "metadata": {
  "kernelspec": {
   "display_name": "Python 3 (ipykernel)",
   "language": "python",
   "name": "python3"
  },
  "language_info": {
   "codemirror_mode": {
    "name": "ipython",
    "version": 3
   },
   "file_extension": ".py",
   "mimetype": "text/x-python",
   "name": "python",
   "nbconvert_exporter": "python",
   "pygments_lexer": "ipython3",
   "version": "3.9.13"
  }
 },
 "nbformat": 4,
 "nbformat_minor": 5
}
